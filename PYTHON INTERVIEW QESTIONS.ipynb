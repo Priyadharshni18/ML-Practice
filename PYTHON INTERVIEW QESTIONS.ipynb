{
 "cells": [
  {
   "cell_type": "code",
   "execution_count": 2,
   "id": "e76a50bd",
   "metadata": {},
   "outputs": [
    {
     "name": "stdout",
     "output_type": "stream",
     "text": [
      "value of a is:  3\n"
     ]
    }
   ],
   "source": [
    "#How do we create numerical variables in python?\n",
    "a=3\n",
    "print('value of a is: ' , a)"
   ]
  },
  {
   "cell_type": "code",
   "execution_count": 3,
   "id": "246b06ff",
   "metadata": {},
   "outputs": [
    {
     "name": "stdout",
     "output_type": "stream",
     "text": [
      "addition is :  7\n"
     ]
    }
   ],
   "source": [
    "#How do we perform calculations in python?\n",
    "a=3\n",
    "b=4\n",
    "print('addition is : ',a+b)"
   ]
  },
  {
   "cell_type": "code",
   "execution_count": 5,
   "id": "dfffd662",
   "metadata": {},
   "outputs": [
    {
     "name": "stdout",
     "output_type": "stream",
     "text": [
      "0\n"
     ]
    }
   ],
   "source": [
    "#Give an example of BODMAS in python?\n",
    "a=(8-3) * (2 -(1 + 1))\n",
    "print(a)"
   ]
  },
  {
   "cell_type": "code",
   "execution_count": 6,
   "id": "6fad253c",
   "metadata": {},
   "outputs": [
    {
     "name": "stdout",
     "output_type": "stream",
     "text": [
      "3\n"
     ]
    }
   ],
   "source": [
    "a = [1, 2, 3]\n",
    "print(len(a))"
   ]
  },
  {
   "cell_type": "code",
   "execution_count": 33,
   "id": "314082d5",
   "metadata": {},
   "outputs": [
    {
     "name": "stdout",
     "output_type": "stream",
     "text": [
      "[3, 2, 1] [1, 2, 3]\n"
     ]
    }
   ],
   "source": [
    "a=[1,2,3]\n",
    "b=[3,2,1]\n",
    "a,b=b,a\n",
    "print(a,b)\n"
   ]
  },
  {
   "cell_type": "code",
   "execution_count": 37,
   "id": "ab7e7159",
   "metadata": {},
   "outputs": [
    {
     "name": "stdout",
     "output_type": "stream",
     "text": [
      "Mario Luigi\n"
     ]
    }
   ],
   "source": [
    "r = ['Mario', 'Bowser', 'Luigi']\n",
    "print(r[0],r[-1])"
   ]
  },
  {
   "cell_type": "code",
   "execution_count": 42,
   "id": "cff24983",
   "metadata": {},
   "outputs": [
    {
     "name": "stdout",
     "output_type": "stream",
     "text": [
      "4\n",
      "5\n"
     ]
    }
   ],
   "source": [
    "#7. How we create loops in python using list?\n",
    "a=[1,2,3,4,5]\n",
    "for i in a:\n",
    "    if(i>3):\n",
    "        print(i)"
   ]
  },
  {
   "cell_type": "code",
   "execution_count": 43,
   "id": "934e437c",
   "metadata": {},
   "outputs": [
    {
     "name": "stdout",
     "output_type": "stream",
     "text": [
      "12\n"
     ]
    }
   ],
   "source": [
    "#8. Give examples of String?\n",
    "a='asufghivhero'\n",
    "print(len(a))"
   ]
  },
  {
   "cell_type": "code",
   "execution_count": 44,
   "id": "228d8b51",
   "metadata": {},
   "outputs": [
    {
     "name": "stdout",
     "output_type": "stream",
     "text": [
      "false\n"
     ]
    }
   ],
   "source": [
    "#9. Give an example of Boolean?\n",
    "a=5\n",
    "b=4\n",
    "if (a<b):\n",
    "    print('true')\n",
    "else:\n",
    "    print('false')"
   ]
  },
  {
   "cell_type": "code",
   "execution_count": 45,
   "id": "2ee95d43",
   "metadata": {},
   "outputs": [
    {
     "name": "stdout",
     "output_type": "stream",
     "text": [
      "8\n"
     ]
    }
   ],
   "source": [
    "#10. How do we perform operations on Boolean?\n",
    "a=9\n",
    "b=8\n",
    "c=11\n",
    "if (a>b) or (a>c):\n",
    "    print(a and b)\n"
   ]
  },
  {
   "cell_type": "code",
   "execution_count": 48,
   "id": "2c6b1028",
   "metadata": {},
   "outputs": [
    {
     "name": "stdout",
     "output_type": "stream",
     "text": [
      "1\n"
     ]
    }
   ],
   "source": [
    "#12. Calculating remainder in python?\n",
    "a=91\n",
    "b=3\n",
    "c=(a%b)\n",
    "print(c)"
   ]
  },
  {
   "cell_type": "code",
   "execution_count": null,
   "id": "072d818a",
   "metadata": {},
   "outputs": [],
   "source": []
  }
 ],
 "metadata": {
  "kernelspec": {
   "display_name": "Python 3",
   "language": "python",
   "name": "python3"
  },
  "language_info": {
   "codemirror_mode": {
    "name": "ipython",
    "version": 3
   },
   "file_extension": ".py",
   "mimetype": "text/x-python",
   "name": "python",
   "nbconvert_exporter": "python",
   "pygments_lexer": "ipython3",
   "version": "3.8.8"
  }
 },
 "nbformat": 4,
 "nbformat_minor": 5
}
