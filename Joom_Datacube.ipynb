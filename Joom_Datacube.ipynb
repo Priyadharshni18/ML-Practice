{
 "cells": [
  {
   "cell_type": "markdown",
   "metadata": {},
   "source": [
    "# Joom"
   ]
  },
  {
   "cell_type": "code",
   "execution_count": 6,
   "metadata": {},
   "outputs": [
    {
     "data": {
      "text/plain": [
       "array(['new_users', 'clicks_google', 'spend_google', 'clicks_partners',\n",
       "       'spend_partners', 'clicks_organic', 'users_with_coupons',\n",
       "       'orders_with_coupons', 'discount', 'revenue', 'orders',\n",
       "       'users_with_points', 'orders_with_points', 'points_used',\n",
       "       'reviews_1', 'reviews_2', 'reviews_3', 'reviews_4', 'reviews_5',\n",
       "       'loyal_users', 'dau'], dtype=object)"
      ]
     },
     "execution_count": 6,
     "metadata": {},
     "output_type": "execute_result"
    }
   ],
   "source": [
    "import pandas as pd\n",
    "import numpy as np\n",
    "import os\n",
    "import warnings\n",
    "warnings.filterwarnings('ignore')\n",
    "\n",
    "\n",
    "os.chdir(r'D:\\Joom\\Final Raw data')\n",
    "\n",
    "date = pd.to_datetime('today').strftime('_%d%m%Y_%H_%M')\n",
    "\n",
    "data = pd.read_excel('MMM_dataset_2021-09-15.xlsx',sheet_name='data_2021-09-16 04_42_41 PM')\n",
    "data['Year'] = data['partition_date'].dt.year\n",
    "\n",
    "df = data.melt(id_vars=data.columns[data.columns.isin(['partition_date','os_type','Year'])])\n",
    "\n",
    "df['os_var'] = df['variable']+'_'+df['os_type']\n",
    "df['os_var_yr'] = df['os_var']+'_'+df['Year'].astype('str')\n",
    "df.variable.unique()\n",
    "#split 2020 into Pre march & post march (29th March 2020)\n",
    "#split weekday & weekend\n",
    "\n",
    "# points used, coupons given & coupons value\n",
    "# agg_list = {i:(np.where(i in ['dau','loyal_users','new_users'],np.mean,np.sum).tolist()) for i in df.variable}\n"
   ]
  },
  {
   "cell_type": "code",
   "execution_count": 2,
   "metadata": {},
   "outputs": [],
   "source": [
    "res1 = df.pivot_table(index='partition_date',columns='os_var',values='value')\n",
    "res2 = data.groupby(['partition_date','Year']).agg(agg_list)\n",
    "res3 = pd.merge(res1,res2,right_index=True,left_index=True)\n",
    "\n",
    "res01 = df.pivot_table(index='partition_date',columns='os_var_yr',values='value')\n",
    "res4 = pd.merge(res3,res01,right_index=True,left_index=True)\n",
    "\n",
    "var_yr = res2.reset_index().melt(id_vars=res2.reset_index().columns[:2])\n",
    "var_yr['var_yr'] = var_yr['variable']+'_'+var_yr['Year'].astype('str')\n",
    "res03 = var_yr.pivot_table(index='partition_date',columns='var_yr',values='value')\n",
    "res5 = pd.merge(res4,res03,right_index=True,left_index=True).reset_index()"
   ]
  },
  {
   "cell_type": "code",
   "execution_count": null,
   "metadata": {},
   "outputs": [],
   "source": []
  },
  {
   "cell_type": "markdown",
   "metadata": {},
   "source": [
    "# Facebook"
   ]
  },
  {
   "cell_type": "code",
   "execution_count": 3,
   "metadata": {},
   "outputs": [],
   "source": [
    "os.chdir(r'D:\\Joom\\fb\\Latest')\n",
    "\n",
    "files = os.listdir(os.getcwd())\n",
    "files = [i for i in files if '.csv' in i]\n",
    "\n",
    "data = {}\n",
    "for i in files:\n",
    "    data[i] = pd.read_csv(i,parse_dates = ['Date'])\n",
    "data = pd.concat(data,0,ignore_index=True)\n",
    "data= data[data['Date'].dt.year.between(2019,2021)]\n",
    "\n",
    "data['Account ID name'] = np.where(data['Account ID']==\"'466301817475915\", 'Retargeting', 'Prospecting')\n",
    "data['Year'] = data['Date'].dt.year\n",
    "\n",
    "result = data.pivot_table(index=['Account ID name','Platform','Campaign Objective', 'Ad Set Name', 'Placement' ,'Video','Date','Year'],\n",
    "                        values=['Impressions','Spend'],aggfunc='sum').reset_index()\n",
    "\n",
    "result['Ad Set Name'] = result['Ad Set Name'].str.lower()\n",
    "\n",
    "\n",
    "result['Campaign'] = np.where(result['Video']==True , 'Video Views',\n",
    "                              np.where(result['Ad Set Name'].str.contains('android'),'Android_Static'+\"_\"+result['Account ID name'],\n",
    "                                       np.where(result['Ad Set Name'].str.contains('ios'),'iOS_Static'+\"_\"+result['Account ID name'],\n",
    "                                                'Unclassified_Static'+\"_\"+result['Account ID name'])))\n",
    "\n",
    "result['Campaign_yr'] = result['Campaign'] +'_'+ result['Year'].astype('str')\n",
    "\n",
    "\n",
    "r1 = result.pivot_table(columns='Campaign',index='Date',values='Impressions',aggfunc='sum')\n",
    "r2 = result.pivot_table(columns='Campaign_yr',index='Date',values='Impressions',aggfunc='sum')\n",
    "r3 = pd.merge(r1,r2,left_index=True,right_index=True).reset_index()\n",
    "r3.rename(columns={'Date':'partition_date'},inplace=True)"
   ]
  },
  {
   "cell_type": "code",
   "execution_count": 4,
   "metadata": {},
   "outputs": [],
   "source": [
    "final = pd.merge(res5,r3,on='partition_date',how='left').fillna(0)\n",
    "final.to_excel(f'Joom_datacube{date}.xlsx')"
   ]
  },
  {
   "cell_type": "code",
   "execution_count": null,
   "metadata": {},
   "outputs": [],
   "source": []
  }
 ],
 "metadata": {
  "kernelspec": {
   "display_name": "Python 3",
   "language": "python",
   "name": "python3"
  },
  "language_info": {
   "codemirror_mode": {
    "name": "ipython",
    "version": 3
   },
   "file_extension": ".py",
   "mimetype": "text/x-python",
   "name": "python",
   "nbconvert_exporter": "python",
   "pygments_lexer": "ipython3",
   "version": "3.8.5"
  }
 },
 "nbformat": 4,
 "nbformat_minor": 4
}
